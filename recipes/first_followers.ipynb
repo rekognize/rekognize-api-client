{
 "cells": [
  {
   "cell_type": "markdown",
   "metadata": {},
   "source": [
    "# Get the first followers of a Twitter user\n",
    "\n",
    "__Ever wondered who were the first to follow an account with millons of followers?__\n",
    "\n",
    "According to the official [Twitter API](https://developer.twitter.com/en/docs/accounts-and-users/follow-search-get-users/api-reference/get-followers-list), to fetch the first followers (or friends) of a user, you must go through all the followers of that user. Due to the API limits, if that user has many followers, this can be very resource consuming. "
   ]
  },
  {
   "cell_type": "code",
   "execution_count": null,
   "metadata": {},
   "outputs": [],
   "source": [
    "%pip install rekognize"
   ]
  },
  {
   "cell_type": "markdown",
   "metadata": {},
   "source": [
    "Get your access tokens from https://rekognize.io/twitter/ and replace the token values below with them. "
   ]
  },
  {
   "cell_type": "code",
   "execution_count": null,
   "metadata": {},
   "outputs": [],
   "source": [
    "from rekognize.twitter import UserClient\n",
    "\n",
    "ACCESS_TOKEN = 'YOUR_ACCESS_TOKEN'\n",
    "ACCESS_TOKEN_SECRET = 'YOUR_ACCESS_TOKEN_SECRET'\n",
    "\n",
    "client = UserClient(\n",
    "    ACCESS_TOKEN,\n",
    "    ACCESS_TOKEN_SECRET\n",
    ")"
   ]
  },
  {
   "cell_type": "markdown",
   "metadata": {},
   "source": [
    "Make the request to the API."
   ]
  },
  {
   "cell_type": "code",
   "execution_count": null,
   "metadata": {},
   "outputs": [],
   "source": [
    "response = client.api.followers.list.get(\n",
    "    screen_name='jack',  # the username of the user we are interested in\n",
    "    count=200,           # Twitter API limit per query for this endpoint\n",
    "    skip_status=True,\n",
    "    cursor=-2,           # that's the trick to get the first followers\n",
    ")"
   ]
  },
  {
   "cell_type": "markdown",
   "metadata": {},
   "source": [
    "Now we have the data. Reverse the list order to have the first followers first. "
   ]
  },
  {
   "cell_type": "code",
   "execution_count": null,
   "metadata": {},
   "outputs": [],
   "source": [
    "followers = response.data.users\n",
    "followers.reverse()  # reverse the list to have the first followers first"
   ]
  },
  {
   "cell_type": "markdown",
   "metadata": {},
   "source": [
    "That's it. The ´followers´ list is now holding the first followers of our target user with their profile information ordered from first to more recent. "
   ]
  },
  {
   "cell_type": "code",
   "execution_count": null,
   "metadata": {},
   "outputs": [],
   "source": [
    "for user in followers:\n",
    "    print(user.id, user.screen_name, user.name)"
   ]
  },
  {
   "cell_type": "markdown",
   "metadata": {},
   "source": [
    "__Note:__ If you are only interested in the user ids, use the [followers/ids](https://developer.twitter.com/en/docs/accounts-and-users/follow-search-get-users/api-reference/get-followers-ids) endpoint. It will give 5,000 user ids per request. "
   ]
  }
 ],
 "metadata": {
  "kernelspec": {
   "display_name": "Python 3",
   "language": "python",
   "name": "python3"
  },
  "language_info": {
   "codemirror_mode": {
    "name": "ipython",
    "version": 3
   },
   "file_extension": ".py",
   "mimetype": "text/x-python",
   "name": "python",
   "nbconvert_exporter": "python",
   "pygments_lexer": "ipython3",
   "version": "3.7.3"
  }
 },
 "nbformat": 4,
 "nbformat_minor": 4
}
